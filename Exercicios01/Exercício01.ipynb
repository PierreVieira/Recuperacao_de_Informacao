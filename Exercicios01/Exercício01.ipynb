{
 "cells": [
  {
   "cell_type": "markdown",
   "metadata": {},
   "source": [
    "# Exercícios Introdutórios de Python\n",
    "<p><strong> Antônio Pierre Martins Vieira</strong></p>\n",
    "Esse relatório tem como principal objetivo iniciar os estudos da linguagem python com jupyter.\n",
    "Por essas e outras razões (como praticidade) não é possível estar explorando ao máximo a linguagem python- fazendo uso de suas built-ins (funções integradas da linguagem).\n",
    "O código pode ser visto na íntegra em: https://github.com/PierreVieira/AEDS2/tree/master/Exercicios01"
   ]
  },
  {
   "cell_type": "markdown",
   "metadata": {},
   "source": [
    "## Questão 1\n",
    "Aqui o objetivo da função é simplesmente retornar o maior valor entre dois valores."
   ]
  },
  {
   "cell_type": "code",
   "execution_count": 1,
   "metadata": {},
   "outputs": [],
   "source": [
    "def maior(a, b):\n",
    "    \"\"\"\n",
    "    Retorna o maior número entre 'a' e 'b'.\n",
    "    @author: Pierre Vieira\n",
    "    \"\"\"\n",
    "    if a > b:  # Se 'a' maior que 'b'\n",
    "        return a  # Retorne 'a'\n",
    "    return b  # Retorne 'b'"
   ]
  },
  {
   "cell_type": "markdown",
   "metadata": {},
   "source": [
    "## Questão 2\n",
    "Deve-se criar uma função que retorne a soma dos elementos de uma lista, além disso deve haver um parâmetro opcional para realizar a soma junto à soma dos elementos da lista."
   ]
  },
  {
   "cell_type": "code",
   "execution_count": null,
   "metadata": {},
   "outputs": [],
   "source": [
    "def soma(lista, x=0.0):\n",
    "    \"\"\"\n",
    "    @author: Pierre Vieira\n",
    "    :param lista: Lista de valores numéricos.\n",
    "    :param x: Parâmetro opcional que será somado ao valor da lista. Vale 0 se não for informado.\n",
    "    :return: Soma dos valores da lista + x.\n",
    "    \"\"\"\n",
    "    s = 0  # A soma começa inicialmente com 0\n",
    "    for numero in lista:  # Para cada número na lista\n",
    "        s += numero  # A soma é acrescentada pelo número\n",
    "    return s + x  # A soma final é a soma calculada acrescentada do parâmetro opcional x"
   ]
  },
  {
   "cell_type": "markdown",
   "metadata": {},
   "source": [
    "## Questão 3\n",
    "Criar uma função que retorne a média dos elementos de uma lista passada como parâmetro."
   ]
  },
  {
   "cell_type": "code",
   "execution_count": null,
   "metadata": {},
   "outputs": [],
   "source": [
    "def media(lista):\n",
    "    \"\"\"\n",
    "    @author: Pierre Vieira\n",
    "    :param lista: Lista de valores inteiros numéricos.\n",
    "    :return: Média dos valores da lista.\n",
    "    \"\"\"\n",
    "    s = 0\n",
    "    qtde_termos = 0\n",
    "    for num in lista:  # Para cada número na lista\n",
    "        s += num  # Adicione esse número à soma\n",
    "        qtde_termos += 1  # A quantidade de termos é incrementada\n",
    "    return s/qtde_termos  # A média é a soma dividida pela quantidade de termos"
   ]
  },
  {
   "cell_type": "markdown",
   "metadata": {},
   "source": [
    "## Questão 4\n",
    "Retornar uma lista contendo os valores iguais entre duas listas passadas como parâmetro."
   ]
  },
  {
   "cell_type": "code",
   "execution_count": null,
   "metadata": {},
   "outputs": [],
   "source": [
    "def valores_iguais(lista1, lista2):\n",
    "    \"\"\"\n",
    "    @author: Pierre Vieira\n",
    "    :param lista1: lista de valores.\n",
    "    :param lista2: lista de valores.\n",
    "    :return: Valores iguais da lista1 e da lista2 em formato de lista.\n",
    "    \"\"\"\n",
    "    return list(set(filter(lambda x: x in lista2, lista1)))  # Filtre apenas os valores da lista 1 que estão na lista\n",
    "    # 2, elimine os repetidos e transforme isso em uma nova lista."
   ]
  },
  {
   "cell_type": "markdown",
   "metadata": {},
   "source": [
    "## Questão 5\n",
    "Encontrar a posição na lista 1 do primeiro valor igual ao da lista 2. Caso não exista, é retornado None."
   ]
  },
  {
   "cell_type": "code",
   "execution_count": null,
   "metadata": {},
   "outputs": [],
   "source": [
    "def indice_prim_valor_igual(lista1: list, lista2: list):\n",
    "    \"\"\"\n",
    "    @author: Pierre Vieira\n",
    "    :param lista1: lista de valores.\n",
    "    :param lista2: lista de valores.\n",
    "    :return: Posição na lista1 do primeiro valor igual ao da lista2 ou None caso essa posição não exista.\n",
    "    \"\"\"\n",
    "    for n in lista2:  # Para um número 'n' na lista 2\n",
    "        try:  # Tente\n",
    "            return lista1.index(n)  # Retorne a primeira posição de n em lista 1\n",
    "        except ValueError:  # Exceto se ocorrer um ValueError\n",
    "            pass  # Não faça nada\n",
    "    return None  # Retorne None"
   ]
  }
 ],
 "metadata": {
  "kernelspec": {
   "display_name": "Python 3",
   "language": "python",
   "name": "python3"
  },
  "language_info": {
   "codemirror_mode": {
    "name": "ipython",
    "version": 3
   },
   "file_extension": ".py",
   "mimetype": "text/x-python",
   "name": "python",
   "nbconvert_exporter": "python",
   "pygments_lexer": "ipython3",
   "version": "3.7.3"
  }
 },
 "nbformat": 4,
 "nbformat_minor": 4
}
