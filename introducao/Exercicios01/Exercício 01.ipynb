{
 "cells": [
  {
   "cell_type": "markdown",
   "metadata": {},
   "source": [
    "# Exercícios Introdutórios de Python\n",
    "<p><i><strong>Antônio Pierre Martins Vieira</strong></i></p>\n",
    "Esse relatório tem como principal objetivo iniciar os estudos da linguagem python com jupyter.\n",
    "Por essas e outras razões (como praticidade) não é possível estar explorando ao máximo a linguagem python - fazendo uso de suas built-ins (funções integradas da linguagem).\n",
    "<p>O código pode ser visto na íntegra clicando <a href=\"https://github.com/PierreVieira/AEDS2/tree/master/Exercicios01\" target=\"_blank\">aqui</a>.</p>"
   ]
  },
  {
   "cell_type": "markdown",
   "metadata": {},
   "source": [
    "## Questão 1\n",
    "Aqui o objetivo da função é simplesmente retornar o maior valor entre dois valores."
   ]
  },
  {
   "cell_type": "code",
   "execution_count": 1,
   "metadata": {},
   "outputs": [
    {
     "name": "stdout",
     "output_type": "stream",
     "text": [
      "teste (a > b): 5\n",
      "teste (a < b): 8\n",
      "teste (a = b): 3\n"
     ]
    }
   ],
   "source": [
    "def maior(a, b):\n",
    "    \"\"\"\n",
    "    Retorna o maior número entre 'a' e 'b'.\n",
    "    @author: Pierre Vieira\n",
    "    \"\"\"\n",
    "    return a if a > b else b  # Retorne 'a' se 'a' maior que 'b', senão retorne 'b'\n",
    "\n",
    "\n",
    "print(f'teste (a > b): {maior(5, 2)}')\n",
    "print(f'teste (a < b): {maior(8, 5)}')\n",
    "print(f'teste (a = b): {maior(3, 3)}')"
   ]
  },
  {
   "cell_type": "markdown",
   "metadata": {},
   "source": [
    "## Questão 2\n",
    "Deve-se criar uma função que retorne a soma dos elementos de uma lista, além disso deve haver um parâmetro opcional para realizar a soma junto à soma dos elementos da lista."
   ]
  },
  {
   "cell_type": "code",
   "execution_count": 2,
   "metadata": {},
   "outputs": [
    {
     "name": "stdout",
     "output_type": "stream",
     "text": [
      "Lista: [1, 2, 3, 4, 5, 6, 7, 8, 9, 10]\n",
      "A soma dos termos de [1, 2, 3, 4, 5, 6, 7, 8, 9, 10] é 55\n",
      "A soma dos termos de [1, 2, 3, 4, 5, 6, 7, 8, 9, 10] somado à 5 é 60\n"
     ]
    }
   ],
   "source": [
    "def soma(lista, x=0):\n",
    "    \"\"\"\n",
    "    @author: Pierre Vieira\n",
    "    :param lista: Lista de valores numéricos.\n",
    "    :param x: Parâmetro opcional que será somado ao valor da lista. Vale 0 se não for informado.\n",
    "    :return: Soma dos valores da lista + x.\n",
    "    \"\"\"\n",
    "    s = 0  # A soma começa inicialmente com 0\n",
    "    for numero in lista:  # Para cada número na lista\n",
    "        s += numero  # A soma é acrescentada pelo número\n",
    "    return s + x  # A soma final é a soma calculada acrescentada do parâmetro opcional x\n",
    "\n",
    "\n",
    "lista = [i + 1 for i in range(10)]\n",
    "print(f'Lista: {lista}')\n",
    "print(f'A soma dos termos de {lista} é {soma(lista)}')\n",
    "print(f'A soma dos termos de {lista} somado à 5 é {soma(lista, 5)}')"
   ]
  },
  {
   "cell_type": "markdown",
   "metadata": {},
   "source": [
    "## Questão 3\n",
    "Criar uma função que retorne a média dos elementos de uma lista passada como parâmetro."
   ]
  },
  {
   "cell_type": "code",
   "execution_count": 3,
   "metadata": {},
   "outputs": [
    {
     "name": "stdout",
     "output_type": "stream",
     "text": [
      "Lista: [1, 2, 3, 4, 5, 6, 7, 8, 9, 10]\n",
      "A média dos termos da lista vale 5.5\n"
     ]
    }
   ],
   "source": [
    "def media(lista):\n",
    "    \"\"\"\n",
    "    @author: Pierre Vieira\n",
    "    :param lista: Lista de valores inteiros numéricos.\n",
    "    :return: Média dos valores da lista.\n",
    "    \"\"\"\n",
    "    s = 0\n",
    "    qtde_termos = 0\n",
    "    for num in lista:  # Para cada número na lista\n",
    "        s += num  # Adicione esse número à soma\n",
    "        qtde_termos += 1  # A quantidade de termos é incrementada\n",
    "    return s/qtde_termos  # A média é a soma dividida pela quantidade de termos\n",
    "\n",
    "\n",
    "lista = [i + 1 for i in range(10)]\n",
    "print(f'Lista: {lista}')\n",
    "print(f'A média dos termos da lista vale {media(lista)}')"
   ]
  },
  {
   "cell_type": "markdown",
   "metadata": {},
   "source": [
    "## Questão 4\n",
    "Retornar uma lista contendo os valores iguais entre duas listas passadas como parâmetro."
   ]
  },
  {
   "cell_type": "code",
   "execution_count": 4,
   "metadata": {},
   "outputs": [
    {
     "name": "stdout",
     "output_type": "stream",
     "text": [
      "Lista 1: [0, 0, 1, 1, 2, 2, 3, 3, 4, 4, 5, 5, 6, 6, 7, 7, 8, 8, 9, 9, 10, 10, 11, 11, 12, 12, 13, 13, 14, 14, 15, 15, 16, 16, 17, 17, 18, 18, 19, 19, 20, 20, 21, 21, 22, 22, 23, 23, 24, 24]\n",
      "Lista 2: [0, 0, 0, 0, 1, 1, 1, 1, 2, 2, 2, 2, 3, 3, 3, 3, 4, 4, 4, 4, 5, 5, 5, 5, 6, 6, 6, 6, 7, 7, 7, 7, 8, 8, 8, 8, 9, 9, 9, 9, 10, 10, 10, 10, 11, 11, 11, 11, 12, 12]\n",
      "Valores iguais entre as listas: [0, 1, 2, 3, 4, 5, 6, 7, 8, 9, 10, 11, 12]\n"
     ]
    }
   ],
   "source": [
    "def valores_iguais(lista1, lista2):\n",
    "    \"\"\"\n",
    "    @author: Pierre Vieira\n",
    "    :param lista1: lista de valores.\n",
    "    :param lista2: lista de valores.\n",
    "    :return: Valores iguais da lista1 e da lista2 em formato de lista.\n",
    "    \"\"\"\n",
    "    return list(set(filter(lambda x: x in lista2, lista1)))  # Filtre apenas os valores da lista 1 que estão na lista\n",
    "    # 2, elimine os repetidos e transforme isso em uma nova lista.\n",
    "\n",
    "\n",
    "lista1 = [i // 2 for i in range(50)]\n",
    "lista2 = [i // 4 for i in range(50)]\n",
    "print(f'Lista 1: {lista1}')\n",
    "print(f'Lista 2: {lista2}')\n",
    "print(f'Valores iguais entre as listas: {valores_iguais(lista1, lista2)}')"
   ]
  },
  {
   "cell_type": "markdown",
   "metadata": {},
   "source": [
    "## Questão 5\n",
    "Encontrar a posição na lista 1 o primeiro valor igual ao da lista 2. Caso não exista, é retornado None."
   ]
  },
  {
   "cell_type": "code",
   "execution_count": 5,
   "metadata": {},
   "outputs": [
    {
     "name": "stdout",
     "output_type": "stream",
     "text": [
      "Lista 1: [0, 0, 0, 0, 1, 1, 1, 1, 2, 2, 2, 2, 3, 3, 3, 3, 4, 4, 4, 4, 5, 5, 5, 5, 6, 6, 6, 6, 7, 7, 7, 7, 8, 8, 8, 8, 9, 9, 9, 9, 10, 10, 10, 10, 11, 11, 11, 11, 12, 12]\n",
      "Lista 2: [1, 1, 2, 2, 2, 2, 2, 3, 3, 3, 3, 3, 4, 4, 4, 4, 4, 5, 5, 5, 5, 5, 6, 6, 6, 6, 6, 7, 7, 7, 7, 7, 8, 8, 8, 8, 8, 9, 9, 9, 9, 9, 10, 10, 10, 10, 10, 11, 11, 11]\n",
      "A posição na lista 1 do primeiro valor igual à lista 2 é 4\n"
     ]
    }
   ],
   "source": [
    "def indice_prim_valor_igual(lista1: list, lista2: list):\n",
    "    \"\"\"\n",
    "    @author: Pierre Vieira\n",
    "    :param lista1: lista de valores.\n",
    "    :param lista2: lista de valores.\n",
    "    :return: Posição na lista1 do primeiro valor igual ao da lista2 ou None caso essa posição não exista.\n",
    "    \"\"\"\n",
    "    for n in lista2:  # Para um número 'n' na lista 2\n",
    "        try:  # Tente\n",
    "            return lista1.index(n)  # Retorne a primeira posição de n em lista 1\n",
    "        except ValueError:  # Exceto se ocorrer um ValueError\n",
    "            pass  # Não faça nada\n",
    "    return None  # Retorne None\n",
    "\n",
    "\n",
    "lista1 = [i // 4 for i in range(50)]\n",
    "lista2 = [(i + 8) // 5 for i in range(50)]\n",
    "posicao = indice_prim_valor_igual(lista1, lista2)\n",
    "print(f'Lista 1: {lista1}')\n",
    "print(f'Lista 2: {lista2}')\n",
    "if posicao is not None:\n",
    "    print(f'A posição na lista 1 do primeiro valor igual à lista 2 é {posicao}')\n",
    "else:\n",
    "    print('A lista 1 e a lista 2 não tem valores iguais.')"
   ]
  }
 ],
 "metadata": {
  "kernelspec": {
   "display_name": "Python 3",
   "language": "python",
   "name": "python3"
  },
  "language_info": {
   "codemirror_mode": {
    "name": "ipython",
    "version": 3
   },
   "file_extension": ".py",
   "mimetype": "text/x-python",
   "name": "python",
   "nbconvert_exporter": "python",
   "pygments_lexer": "ipython3",
   "version": "3.8.3"
  }
 },
 "nbformat": 4,
 "nbformat_minor": 4
}
