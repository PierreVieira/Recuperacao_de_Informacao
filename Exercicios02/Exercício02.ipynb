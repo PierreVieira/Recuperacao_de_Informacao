{
 "cells": [
  {
   "cell_type": "markdown",
   "metadata": {},
   "source": [
    "# Exercícios de POO com Python\n",
    "<p><strong> Antônio Pierre Martins Vieira</strong></p>\n",
    "Esse relatório tem como principal objetivo iniciar os estudos de POO com a linguagem.\n",
    "Todas as classes aqui apresentadas foram testadas.\n",
    "O código pode ser visto na íntegra em: https://github.com/PierreVieira/AEDS2/tree/master/Exercicios02"
   ]
  },
  {
   "cell_type": "markdown",
   "metadata": {},
   "source": [
    "## Pessoa\n",
    "A classe Pessoa é a mais simples de todas, contém apenas o campo nome."
   ]
  },
  {
   "cell_type": "code",
   "execution_count": null,
   "metadata": {},
   "outputs": [],
   "source": [
    "class Pessoa():\n",
    "    \"\"\"\n",
    "    @author: Pierre Vieira\n",
    "    \"\"\"\n",
    "\n",
    "    def __init__(self, nome: str):\n",
    "        self._nome = nome\n",
    "\n",
    "    @property\n",
    "    def nome(self):\n",
    "        return self._nome\n",
    "\n",
    "    # Métodos dunder\n",
    "    def __str__(self):\n",
    "        return self._nome\n",
    "\n",
    "    def __repr__(self):\n",
    "        return self.__str__()"
   ]
  },
  {
   "cell_type": "markdown",
   "metadata": {},
   "source": [
    "## Autor\n",
    "Sendo o último nome um argumento opcional para o este construtor, a classe Autor herda de Pessoa e o nome citado é como feito em publicações literárias, artigos e trabalhos. Como por exemplo “DALIP D.” sendo que Dalip é o último nome de Daniel é o primeiro nome."
   ]
  },
  {
   "cell_type": "code",
   "execution_count": null,
   "metadata": {},
   "outputs": [],
   "source": [
    "class Autor(Pessoa):\n",
    "    \"\"\"\n",
    "    @author: Pierre Vieira\n",
    "    \"\"\"\n",
    "\n",
    "    def __init__(self, primeiro_nome: str, nome_do_meio: str, ultimo_nome: str = ''):\n",
    "        nomes = (primeiro_nome, nome_do_meio, ultimo_nome)  # Cada parte do nome é um diferente elemento da tupla\n",
    "        nome = ' '.join(nomes).strip()  # Reune os nomes na string nome\n",
    "        super().__init__(nome)  # Chama o método super\n",
    "        self._nome_como_citado = ultimo_nome.upper() + ' ' + self.nome[0].upper() + '.'  # Formata o nome\n",
    "\n",
    "    @property\n",
    "    def nome_como_citado(self):\n",
    "        return self.nome_como_citado\n",
    "\n",
    "    # Métodos dunder\n",
    "    def __str__(self):\n",
    "        return self._nome_como_citado\n",
    "\n",
    "    def __repr__(self):\n",
    "        return self.__str__()"
   ]
  },
  {
   "cell_type": "markdown",
   "metadata": {},
   "source": [
    "## Livro\n",
    "O construtor da classe Livro contém 3 campos, sendo 2 obrigatórios (titulo e ano) e um opcional (autores que escreveram o livro)."
   ]
  },
  {
   "cell_type": "code",
   "execution_count": null,
   "metadata": {},
   "outputs": [],
   "source": [
    "class Livro():\n",
    "    def __init__(self, titulo: str, ano: int, autores=None):\n",
    "        if autores is None:  # Se não foi passado os autores como argumento para a função\n",
    "            autores = []  # Os autores são uma lista vazia\n",
    "        if titulo is None:  # Se o título é None (string vazia também é considerada como None)\n",
    "            raise ValueError('O título não pode ser vazio!')  # Lance uma exceção informando o motivo\n",
    "        else:  # Senão...\n",
    "            self._titulo = titulo\n",
    "            self._ano = ano\n",
    "            self._autores = autores\n",
    "\n",
    "    @property\n",
    "    def titulo(self):\n",
    "        return self._titulo\n",
    "\n",
    "    @property\n",
    "    def ano(self):\n",
    "        return self._ano\n",
    "\n",
    "    @property\n",
    "    def autores(self):\n",
    "        return self._autores\n",
    "\n",
    "    # Métodos Dunder\n",
    "    def __str__(self):\n",
    "        return f'{self.titulo} // {self.ano}'\n",
    "\n",
    "    def __repr__(self):\n",
    "        return self.__str__()"
   ]
  },
  {
   "cell_type": "markdown",
   "metadata": {},
   "source": [
    "## Biblioteca\n",
    "A classe biblioteca contém todos os livros. O interessante dessa classe é que a mesma contém um parâmetro chamado \"livros_por_autor\" em que consiste de um dicionário cuja chave é o nome do autor (em formato de como é citado) e o valor é uma lista contendo os livros que esse autor já escreveu."
   ]
  },
  {
   "cell_type": "code",
   "execution_count": null,
   "metadata": {},
   "outputs": [],
   "source": [
    "class Biblioteca():\n",
    "    def __init__(self, livros: list):\n",
    "        self._livros_por_autor = self._calcular_livros_por_autor(livros)\n",
    "\n",
    "    def _calcular_livros_por_autor(self, livros: list):\n",
    "        \"\"\"\n",
    "        @author: Pierre Vieira\n",
    "        :param livros: lista de livros\n",
    "        :return: dicionário cuja key é o nome de um autor e o value é a lista de livros que esse autor já escreveu.\n",
    "        \"\"\"\n",
    "        nomes = list(set(nome for livro in livros for nome in livro.autores))  # Ṕara cada nome em um livro da lista\n",
    "        # de livros, adicione esses nomes a uma lista eliminando os nomes repetidos\n",
    "        dicionario = {}  # Dicionário que irá ter como key o nome do autor e value a lista de livros que ele já escreveu\n",
    "        for nome in nomes:  # Para cada nome na lista de nomes\n",
    "            lista_livros_autor = []  # Cria uma lista vazia que irá armazenar os livros de cada autor\n",
    "            for livro in livros:  # Ṕara cada livro na lista de livros\n",
    "                if nome in livro.autores:  # Se o nome está incluso na lista de autores do livro\n",
    "                    lista_livros_autor.append(livro)  # Adicione esse livro na lista de livros\n",
    "            dicionario.update({nome: lista_livros_autor})  # Adicione ao dicionário um campo em que a o nome do autor\n",
    "            # é a key e os livros escritos por esse autor é value\n",
    "        return dicionario  # Retorne o dicionário gerado\n",
    "\n",
    "    @property\n",
    "    def livros_por_autor(self):\n",
    "        return self._livros_por_autor\n",
    "\n",
    "    # Métodos Dunder\n",
    "    def __str__(self):\n",
    "        return str(self._livros_por_autor)\n",
    "\n",
    "    def __repr__(self):\n",
    "        return self.__str__()"
   ]
  }
 ],
 "metadata": {
  "kernelspec": {
   "display_name": "Python 3",
   "language": "python",
   "name": "python3"
  },
  "language_info": {
   "codemirror_mode": {
    "name": "ipython",
    "version": 3
   },
   "file_extension": ".py",
   "mimetype": "text/x-python",
   "name": "python",
   "nbconvert_exporter": "python",
   "pygments_lexer": "ipython3",
   "version": "3.7.3"
  }
 },
 "nbformat": 4,
 "nbformat_minor": 2
}
